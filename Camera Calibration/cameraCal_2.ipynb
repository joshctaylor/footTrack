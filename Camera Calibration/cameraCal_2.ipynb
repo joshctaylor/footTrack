{
 "cells": [
  {
   "cell_type": "code",
   "execution_count": 2,
   "metadata": {
    "collapsed": true
   },
   "outputs": [],
   "source": [
    "import cv2\n",
    "import numpy as np\n",
    "from matplotlib import pyplot as plt\n",
    "import sys\n",
    "import getopt\n",
    "from glob import glob"
   ]
  },
  {
   "cell_type": "code",
   "execution_count": 13,
   "metadata": {},
   "outputs": [
    {
     "name": "stdout",
     "output_type": "stream",
     "text": [
      "processing E:/Calibrations/fwdcam\\fwdCal-00004.jpg... ok\n",
      "processing E:/Calibrations/fwdcam\\fwdCal-00005.jpg... ok\n",
      "processing E:/Calibrations/fwdcam\\fwdCal-00006.jpg... ok\n",
      "processing E:/Calibrations/fwdcam\\fwdCal-00007.jpg... ok\n",
      "processing E:/Calibrations/fwdcam\\fwdCal-00008.jpg... ok\n",
      "processing E:/Calibrations/fwdcam\\fwdCal-00009.jpg... ok\n",
      "processing E:/Calibrations/fwdcam\\fwdCal-00010.jpg... ok\n",
      "processing E:/Calibrations/fwdcam\\fwdCal-00011.jpg... ok\n",
      "processing E:/Calibrations/fwdcam\\fwdCal-00012.jpg... ok\n",
      "processing E:/Calibrations/fwdcam\\fwdCal-00013.jpg... ok\n",
      "processing E:/Calibrations/fwdcam\\fwdCal-00014.jpg... ok\n",
      "processing E:/Calibrations/fwdcam\\fwdCal-00015.jpg... ok\n",
      "processing E:/Calibrations/fwdcam\\fwdCal-00016.jpg... chessboard not found\n"
     ]
    }
   ],
   "source": [
    "imagePath = 'E:/Calibrations/fwdcam/'\n",
    "debug_dir = 'E:/Calibrations/fwdcam/output/'\n",
    "\n",
    "img_mask = imagePath + '*.jpg'  \n",
    "img_names = glob(img_mask)\n",
    "pattern_size = (9, 6)\n",
    "img_names_undistort = []\n",
    "img_points = []\n",
    "obj_points = []\n",
    "square_size = 1  # mm\n",
    "pattern_points = np.zeros((np.prod(pattern_size), 3), np.float32)\n",
    "pattern_points[:, :2] = np.indices(pattern_size).T.reshape(-1, 2)\n",
    "pattern_points *= square_size\n",
    "\n",
    "for fn in img_names:\n",
    "    print('processing %s... ' % fn, end='')\n",
    "    img = cv2.imread(fn, 0)\n",
    "    if img is None:\n",
    "        print(\"Failed to load\", fn)\n",
    "        continue\n",
    "\n",
    "    h, w = img.shape[:2]\n",
    "    found, corners = cv2.findChessboardCorners(img, pattern_size)\n",
    "    if found:\n",
    "        term = (cv2.TERM_CRITERIA_EPS + cv2.TERM_CRITERIA_COUNT, 30, 0.1)\n",
    "        cv2.cornerSubPix(img, corners, (5, 5), (-1, -1), term)\n",
    "        \n",
    "    vis = cv2.cvtColor(img, cv2.COLOR_GRAY2BGR)\n",
    "    cv2.drawChessboardCorners(vis, pattern_size, corners, found)\n",
    "    outfile = fn + '_chess.png'\n",
    "    cv2.imwrite(outfile, vis)\n",
    "    if found:\n",
    "        img_names_undistort.append(outfile)\n",
    "\n",
    "    if not found:\n",
    "        print('chessboard not found')\n",
    "        continue\n",
    "\n",
    "    img_points.append(corners.reshape(-1, 2))\n",
    "    obj_points.append(pattern_points)\n",
    "    print('ok')\n",
    "\n",
    "    \n",
    "calibrate(objectPoints, imagePoints, image_size, K, D[, rvecs[, tvecs[, flags[, criteria]]]]) -> retval, K, D, rvecs, tvecs"
   ]
  },
  {
   "cell_type": "code",
   "execution_count": null,
   "metadata": {
    "collapsed": true
   },
   "outputs": [],
   "source": []
  }
 ],
 "metadata": {
  "kernelspec": {
   "display_name": "Python 3",
   "language": "python",
   "name": "python3"
  },
  "language_info": {
   "codemirror_mode": {
    "name": "ipython",
    "version": 3
   },
   "file_extension": ".py",
   "mimetype": "text/x-python",
   "name": "python",
   "nbconvert_exporter": "python",
   "pygments_lexer": "ipython3",
   "version": "3.6.1"
  }
 },
 "nbformat": 4,
 "nbformat_minor": 2
}
