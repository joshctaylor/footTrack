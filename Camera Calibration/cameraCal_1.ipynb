{
 "cells": [
  {
   "cell_type": "code",
   "execution_count": 1,
   "metadata": {},
   "outputs": [
    {
     "ename": "error",
     "evalue": "C:\\projects\\opencv-python\\opencv\\modules\\calib3d\\src\\calibration.cpp:3357: error: (-215) nimages > 0 in function cv::calibrateCamera\n",
     "output_type": "error",
     "traceback": [
      "\u001b[1;31m---------------------------------------------------------------------------\u001b[0m",
      "\u001b[1;31merror\u001b[0m                                     Traceback (most recent call last)",
      "\u001b[1;32m<ipython-input-1-55beef43b8f9>\u001b[0m in \u001b[0;36m<module>\u001b[1;34m()\u001b[0m\n\u001b[0;32m     57\u001b[0m \u001b[1;33m\u001b[0m\u001b[0m\n\u001b[0;32m     58\u001b[0m     \u001b[1;31m# calculate camera distortion\u001b[0m\u001b[1;33m\u001b[0m\u001b[1;33m\u001b[0m\u001b[0m\n\u001b[1;32m---> 59\u001b[1;33m     \u001b[0mrms\u001b[0m\u001b[1;33m,\u001b[0m \u001b[0mcamera_matrix\u001b[0m\u001b[1;33m,\u001b[0m \u001b[0mdist_coefs\u001b[0m\u001b[1;33m,\u001b[0m \u001b[0mrvecs\u001b[0m\u001b[1;33m,\u001b[0m \u001b[0mtvecs\u001b[0m \u001b[1;33m=\u001b[0m \u001b[0mcv2\u001b[0m\u001b[1;33m.\u001b[0m\u001b[0mcalibrateCamera\u001b[0m\u001b[1;33m(\u001b[0m\u001b[0mobj_points\u001b[0m\u001b[1;33m,\u001b[0m \u001b[0mimg_points\u001b[0m\u001b[1;33m,\u001b[0m \u001b[1;33m(\u001b[0m\u001b[0mw\u001b[0m\u001b[1;33m,\u001b[0m \u001b[0mh\u001b[0m\u001b[1;33m)\u001b[0m\u001b[1;33m,\u001b[0m \u001b[1;32mNone\u001b[0m\u001b[1;33m,\u001b[0m \u001b[1;32mNone\u001b[0m\u001b[1;33m)\u001b[0m\u001b[1;33m\u001b[0m\u001b[0m\n\u001b[0m\u001b[0;32m     60\u001b[0m \u001b[1;33m\u001b[0m\u001b[0m\n\u001b[0;32m     61\u001b[0m     \u001b[0mprint\u001b[0m\u001b[1;33m(\u001b[0m\u001b[1;34m\"\\nRMS:\"\u001b[0m\u001b[1;33m,\u001b[0m \u001b[0mrms\u001b[0m\u001b[1;33m)\u001b[0m\u001b[1;33m\u001b[0m\u001b[0m\n",
      "\u001b[1;31merror\u001b[0m: C:\\projects\\opencv-python\\opencv\\modules\\calib3d\\src\\calibration.cpp:3357: error: (-215) nimages > 0 in function cv::calibrateCamera\n"
     ]
    }
   ],
   "source": [
    "import numpy as np\n",
    "import cv2\n",
    "import os\n",
    "\n",
    "import sys\n",
    "import getopt\n",
    "from glob import glob\n",
    "\n",
    "if __name__ == '__main__':\n",
    "    imagePath  = 'E:/Calibrations/fwdcam/'\n",
    "    img_names = glob(imagePath + '.jpg')\n",
    "    square_size = 25  # square size in mm\n",
    "    debug_dir = './output.'\n",
    "\n",
    "# make an output directory if it doesn't exist\n",
    "    if not os.path.isdir(debug_dir):\n",
    "        os.mkdir(debug_dir)\n",
    "\n",
    "    pattern_size = (9, 6)\n",
    "    pattern_points = np.zeros((np.prod(pattern_size), 3), np.float32)\n",
    "    pattern_points[:, :2] = np.indices(pattern_size).T.reshape(-1, 2)\n",
    "    pattern_points *= square_size\n",
    "    obj_points = []\n",
    "    img_points = []\n",
    "    h, w = 0, 0\n",
    "    img_names_undistort = []\n",
    "    for fn in img_names:\n",
    "        print('processing %s... ' % fn, end='')\n",
    "        img = cv2.imread(fn, 0)\n",
    "        if img is None:\n",
    "            print(\"Failed to load\", fn)\n",
    "            continue\n",
    "\n",
    "        h, w = img.shape[:2]\n",
    "        found, corners = cv2.findChessboardCorners(img, pattern_size)\n",
    "        if found:\n",
    "            term = (cv2.TERM_CRITERIA_EPS + cv2.TERM_CRITERIA_COUNT, 30, 0.1)\n",
    "            cv2.cornerSubPix(img, corners, (5, 5), (-1, -1), term)\n",
    "\n",
    "        if debug_dir:\n",
    "            vis = cv2.cvtColor(img, cv2.COLOR_GRAY2BGR)\n",
    "            cv2.drawChessboardCorners(vis, pattern_size, corners, found)\n",
    "            path, name, ext = splitfn(fn)\n",
    "            outfile = debug_dir + name + '_chess.png'\n",
    "            cv2.imwrite(outfile, vis)\n",
    "            if found:\n",
    "                img_names_undistort.append(outfile)\n",
    "\n",
    "        if not found:\n",
    "            print('chessboard not found')\n",
    "            continue\n",
    "\n",
    "        img_points.append(corners.reshape(-1, 2))\n",
    "        obj_points.append(pattern_points)\n",
    "\n",
    "        print('ok')\n",
    "\n",
    "    # calculate camera distortion\n",
    "    rms, camera_matrix, dist_coefs, rvecs, tvecs = cv2.calibrateCamera(obj_points, img_points, (w, h), None, None)\n",
    "\n",
    "    print(\"\\nRMS:\", rms)\n",
    "    print(\"camera matrix:\\n\", camera_matrix)\n",
    "    print(\"distortion coefficients: \", dist_coefs.ravel())\n",
    "\n",
    "    \n",
    "    # undistort the image with the calibration\n",
    "    print('')\n",
    "    for img_found in img_names_undistort:\n",
    "        img = cv2.imread(img_found)\n",
    "\n",
    "        h,  w = img.shape[:2]\n",
    "        newcameramtx, roi = cv2.getOptimalNewCameraMatrix(camera_matrix, dist_coefs, (w, h), 1, (w, h))\n",
    "\n",
    "        dst = cv2.undistort(img, camera_matrix, dist_coefs, None, newcameramtx)\n",
    "\n",
    "        # crop and save the image\n",
    "        x, y, w, h = roi\n",
    "        dst = dst[y:y+h, x:x+w]\n",
    "        outfile = img_found + '_undistorted.png'\n",
    "        print('Undistorted image written to: %s' % outfile)\n",
    "        cv2.imwrite(outfile, dst)\n",
    "\n",
    "    cv2.destroyAllWindows()\n"
   ]
  },
  {
   "cell_type": "code",
   "execution_count": null,
   "metadata": {
    "collapsed": true
   },
   "outputs": [],
   "source": []
  }
 ],
 "metadata": {
  "kernelspec": {
   "display_name": "Python 3",
   "language": "python",
   "name": "python3"
  },
  "language_info": {
   "codemirror_mode": {
    "name": "ipython",
    "version": 3
   },
   "file_extension": ".py",
   "mimetype": "text/x-python",
   "name": "python",
   "nbconvert_exporter": "python",
   "pygments_lexer": "ipython3",
   "version": "3.6.1"
  }
 },
 "nbformat": 4,
 "nbformat_minor": 2
}
