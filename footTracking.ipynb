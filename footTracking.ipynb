{
 "cells": [
  {
   "cell_type": "code",
   "execution_count": 85,
   "metadata": {},
   "outputs": [
    {
     "name": "stdout",
     "output_type": "stream",
     "text": [
      "processing\n"
     ]
    }
   ],
   "source": [
    "# import the necessary packages\n",
    "# detection based algorithm based on the pyimage tutorial\n",
    "\n",
    "from collections import deque\n",
    "import numpy as np\n",
    "import argparse\n",
    "import imutils\n",
    "import cv2\n",
    "import csv\n",
    "# http://jgardiner.co.uk/blog/jupyter_progress_bar\n",
    "from ipywidgets import FloatProgress\n",
    "import ipywidgets as widgets\n",
    "from IPython.display import display\n",
    "\n",
    "print('processing')"
   ]
  },
  {
   "cell_type": "code",
   "execution_count": 92,
   "metadata": {},
   "outputs": [
    {
     "data": {
      "application/vnd.jupyter.widget-view+json": {
       "model_id": "9ca0552125fd4161a22b7633a4d1f437"
      }
     },
     "metadata": {},
     "output_type": "display_data"
    },
    {
     "name": "stdout",
     "output_type": "stream",
     "text": [
      "Complete!\n"
     ]
    }
   ],
   "source": [
    "videoFile = 'E:/A8S09_aft.mp4'\n",
    "outputFile = videoFile + 'output_circle_centre.mp4'\n",
    "fileName = videoFile + 'blur.csv'\n",
    "buffer = 32\n",
    "pts = []\n",
    "# open a csv file in overwrite mode\n",
    "csvfile = open(fileName,'w')\n",
    "fourcc = cv2.VideoWriter_fourcc(*'XVID')\n",
    "\n",
    "# define the lower and upper boundaries of the \"green\"\n",
    "# ball in the HSV color space\n",
    "greenLower = (45, 75, 75)\n",
    "greenUpper = (75, 255, 255)\n",
    " \n",
    "# initialize the list of tracked points, the frame counter,\n",
    "# and the coordinate deltas\n",
    "pts = deque(maxlen=buffer)\n",
    "counter = 0\n",
    "(dX, dY) = (0, 0)\n",
    "direction = \"\"\n",
    "camera = cv2.VideoCapture(videoFile)\n",
    "width = int(camera.get(3))\n",
    "height = int(camera.get(4))\n",
    "fps = camera.get(5)\n",
    "outputVideo = cv2.VideoWriter(outputFile, fourcc, fps, (width, height))\n",
    "f = FloatProgress(min=0, max=camera.get(cv2.CAP_PROP_FRAME_COUNT))\n",
    "display(f)\n",
    "        \n",
    "# keep looping\n",
    "while True:\n",
    "\t# grab the current frame\n",
    "\t(grabbed, frame) = camera.read()\n",
    "\tf.value = counter\n",
    "\tif counter == camera.get(cv2.CAP_PROP_FRAME_COUNT):\n",
    "\t\tbreak\n",
    " \n",
    "\t# resize the frame, blur it, and convert it to the HSV\n",
    "\t# color space\n",
    "\t# frame = imutils.resize(frame, width=600)\n",
    "\tblurred = cv2.GaussianBlur(frame, (11, 11), 0)\n",
    "\thsv = cv2.cvtColor(blurred, cv2.COLOR_BGR2HSV)\n",
    " \n",
    "\t# construct a mask for the color \"green\", then perform\n",
    "\t# a series of dilations and erosions to remove any small\n",
    "\t# blobs left in the mask\n",
    "\tmask = cv2.inRange(hsv, greenLower, greenUpper)\n",
    "\tmask = cv2.erode(mask, None, iterations=2)\n",
    "\tmask = cv2.dilate(mask, None, iterations=2)\n",
    " \n",
    "\t# find contours in the mask and initialize the current\n",
    "\t# (x, y) center of the ball\n",
    "\tcnts = cv2.findContours(mask.copy(), cv2.RETR_EXTERNAL,\n",
    "\t\tcv2.CHAIN_APPROX_SIMPLE)[-2]\n",
    "\tcenter = [None, None]\n",
    "    \n",
    "# only proceed if at least one contour was found\n",
    "\tif len(cnts) > 0:\n",
    "\t\t# find the largest contour in the mask, then use\n",
    "\t\t# it to compute the minimum enclosing circle and\n",
    "\t\t# centroid\n",
    "\t\tc = max(cnts, key=cv2.contourArea)\n",
    "\t\t((x, y), radius) = cv2.minEnclosingCircle(c)\n",
    "\t\tM = cv2.moments(c)\n",
    "        \n",
    "\t\tcenter = (int(M[\"m10\"] / M[\"m00\"]), int(M[\"m01\"] / M[\"m00\"]))\n",
    " \n",
    "\t\t# only proceed if the radius meets a minimum size\n",
    "\t\tif radius > 10:\n",
    "\t\t\t# then update the list of tracked points\n",
    "\t\t\txx = c[:,:,0]\n",
    "\t\t\tyy = c[:,:,1]\n",
    "\t\t\tpts.appendleft((int(x), int(y)))\n",
    "\t\t\tcv2.circle(frame, (int(x), int(y)), int(radius),\n",
    "\t\t\t\t(0, 255, 255), 2)\n",
    "\t\t\tcv2.circle(frame, (int(center[0]), int(center[1])), 5, (0, 0, 255), -1)\n",
    "\t\t\tcv2.circle(frame, (int(x), int(y)), 5, (0, 255, 255), -1)\n",
    "\t\t\tcv2.drawContours(frame, c, -1, (0, 0, 255),3)\n",
    "            \n",
    "\t# loop over the set of tracked points\n",
    "\tfor i in np.arange(1, len(pts)):\n",
    "\t\t# if either of the tracked points are None, ignore\n",
    "\t\t# them\n",
    "\t\tif pts[i - 1] is None or pts[i] is None:\n",
    "\t\t\tcontinue\n",
    " \n",
    "\t\t# check to see if enough points have been accumulated in\n",
    "\t\t# the buffer\n",
    "\t\tif counter >= 10 and i == 1 and pts[-10] is not None:\n",
    "\t\t\t# compute the difference between the x and y\n",
    "\t\t\t# coordinates and re-initialize the direction\n",
    "\t\t\t# text variables\n",
    "\t\t\tdX = pts[-10][0] - pts[i][0]\n",
    "\t\t\tdY = pts[-10][1] - pts[i][1]\n",
    "\t\t\t(dirX, dirY) = (\"\", \"\")\n",
    " \n",
    "\t\t\t# ensure there is significant movement in the\n",
    "\t\t\t# x-direction\n",
    "\t\t\tif np.abs(dX) > 20:\n",
    "\t\t\t\tdirX = \"East\" if np.sign(dX) == 1 else \"West\"\n",
    " \n",
    "\t\t\t# ensure there is significant movement in the\n",
    "\t\t\t# y-direction\n",
    "\t\t\tif np.abs(dY) > 20:\n",
    "\t\t\t\tdirY = \"North\" if np.sign(dY) == 1 else \"South\"\n",
    " \n",
    "\t\t\t# handle when both directions are non-empty\n",
    "\t\t\tif dirX != \"\" and dirY != \"\":\n",
    "\t\t\t\tdirection = \"{}-{}\".format(dirY, dirX)\n",
    " \n",
    "\t\t\t# otherwise, only one direction is non-empty\n",
    "\t\t\telse:\n",
    "\t\t\t\tdirection = dirX if dirX != \"\" else dirY\n",
    "\n",
    "\n",
    "\t\t# otherwise, compute the thickness of the line and\n",
    "\t\t# draw the connecting lines\n",
    "\t\t# thickness = int(np.sqrt(buffer / float(i + 1)) * 2.5)\n",
    "\t\tcv2.line(frame, pts[i - 1], pts[i], (255, 0, 255), 3)\n",
    " \n",
    "\t# show the movement deltas and the direction of movement on\n",
    "\t# the frame\n",
    "\tcv2.putText(frame, str(counter), (10, 30), cv2.FONT_HERSHEY_SIMPLEX,\n",
    "\t\t0.65, (0, 0, 255), 3)\n",
    "\tcv2.putText(frame, \"dx: {}, dy: {}\".format(dX, dY),\n",
    "\t\t(10, frame.shape[0] - 10), cv2.FONT_HERSHEY_SIMPLEX,\n",
    "\t\t0.35, (0, 0, 255), 1)\n",
    " \n",
    "\t# show the frame to our screen and increment the frame counter\n",
    "\tcv2.imshow(\"Frame\", frame)\n",
    "\tkey = cv2.waitKey(1) & 0xFF\n",
    "\tcounter += 1\n",
    "\tfileWriter = csv.writer(csvfile)\n",
    "\toutputVideo.write(frame)\n",
    "\t# print(\"data is\", repr(center))\n",
    "\tfileWriter.writerow([counter, center[0], center[1], radius])\n",
    "\t# if the 'q' key is pressed, stop the loop\n",
    "\tif key == ord(\"q\"):\n",
    "\t\tbreak\n",
    " \n",
    "#  cleanup the camera and close any open windows\n",
    "print(\"Complete!\")\n",
    "camera.release()\n",
    "outputVideo.release()\n",
    "cv2.destroyAllWindows()"
   ]
  },
  {
   "cell_type": "code",
   "execution_count": 81,
   "metadata": {},
   "outputs": [
    {
     "data": {
      "text/plain": [
       "(167, 1)"
      ]
     },
     "execution_count": 81,
     "metadata": {},
     "output_type": "execute_result"
    }
   ],
   "source": [
    "xx.shape"
   ]
  },
  {
   "cell_type": "code",
   "execution_count": 80,
   "metadata": {
    "collapsed": true
   },
   "outputs": [],
   "source": [
    "\n",
    "\n"
   ]
  },
  {
   "cell_type": "code",
   "execution_count": null,
   "metadata": {},
   "outputs": [],
   "source": [
    "from matplotlib import pyplot as plt\n",
    "\n",
    "fileName = 'E:/aftereffets/a8d_04.mp4output_circle_centre.mp4'\n",
    "data = np.genfromtxt(fileName, delimiter=',', names=['frame', 'x', 'y', 'r'])\n",
    "\n",
    "fig = plt.figure()\n",
    "ax1 = fig.add_subplot(111)\n",
    "ln1 = plt.plot(data['frame'], data['x'], color='r', label='foot position')\n",
    "ax2 = ax1.twinx()\n",
    "ln2 = plt.plot(data['frame'], data['r'], color='b', label='blob radius')\n",
    "\n",
    "lns = ln1 + ln2\n",
    "labs = [l.get_label() for l in lns]\n",
    "ax1.legend(lns, labs, loc=0)\n",
    "plt.show()\n",
    "\n"
   ]
  },
  {
   "cell_type": "code",
   "execution_count": 22,
   "metadata": {},
   "outputs": [
    {
     "data": {
      "text/plain": [
       "875967064"
      ]
     },
     "execution_count": 22,
     "metadata": {},
     "output_type": "execute_result"
    }
   ],
   "source": []
  }
 ],
 "metadata": {
  "kernelspec": {
   "display_name": "Python 3",
   "language": "python",
   "name": "python3"
  },
  "language_info": {
   "codemirror_mode": {
    "name": "ipython",
    "version": 3
   },
   "file_extension": ".py",
   "mimetype": "text/x-python",
   "name": "python",
   "nbconvert_exporter": "python",
   "pygments_lexer": "ipython3",
   "version": "3.6.1"
  }
 },
 "nbformat": 4,
 "nbformat_minor": 2
}
