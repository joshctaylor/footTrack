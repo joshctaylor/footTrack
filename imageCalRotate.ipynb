{
 "cells": [
  {
   "cell_type": "code",
   "execution_count": 2,
   "metadata": {
    "collapsed": true
   },
   "outputs": [],
   "source": [
    "import cv2\n",
    "import numpy as np\n",
    "import sys"
   ]
  },
  {
   "cell_type": "code",
   "execution_count": 38,
   "metadata": {},
   "outputs": [
    {
     "name": "stdout",
     "output_type": "stream",
     "text": [
      "Cannot read video file\n"
     ]
    },
    {
     "ename": "SystemExit",
     "evalue": "",
     "output_type": "error",
     "traceback": [
      "An exception has occurred, use %tb to see the full traceback.\n",
      "\u001b[1;31mSystemExit\u001b[0m\n"
     ]
    },
    {
     "name": "stderr",
     "output_type": "stream",
     "text": [
      "C:\\Users\\jct1c13\\AppData\\Local\\Continuum\\Anaconda3\\envs\\opencv3\\lib\\site-packages\\IPython\\core\\interactiveshell.py:2889: UserWarning: To exit: use 'exit', 'quit', or Ctrl-D.\n",
      "  warn(\"To exit: use 'exit', 'quit', or Ctrl-D.\", stacklevel=1)\n"
     ]
    }
   ],
   "source": [
    "# mouse callback function\n",
    "pts = []\n",
    "def mouse_callback(event,x,y,flags,param):\n",
    "    if event == cv2.EVENT_LBUTTONDOWN:\n",
    "        global pts\n",
    "        pts.append((x,y))\n",
    "\n",
    "# get info about the video \n",
    "video = cv2.VideoCapture('E:/A8D02_FWD.mp4')\n",
    "width = int(video.get(3))\n",
    "height = int(video.get(4))\n",
    "fps = video.get(5)\n",
    "counter = 0\n",
    "\n",
    "minute = 4\n",
    "second = 0\n",
    "targetFrame = int(((minute*60)+second) * fps)\n",
    "totalFrames = video.get(cv2.CAP_PROP_FRAME_COUNT)\n",
    "frameID = targetFrame / totalFrames  # frame id is range 0-1\n",
    "video.set(3, frameID)\n",
    "\n",
    "while True:\n",
    "# load the frame and display it  \n",
    "    ok, frame = video.read()\n",
    "    if not ok:\n",
    "        print('Cannot read video file')\n",
    "        sys.exit()\n",
    "    if counter == targetFrame:\n",
    "        rows,cols,col = frame.shape\n",
    "        M = cv2.getRotationMatrix2D((cols/2,rows/2),3.88,1)\n",
    "        dst = cv2.warpAffine(frame,M,(cols,rows))\n",
    "        cv2.namedWindow('image')\n",
    "        cv2.setMouseCallback('image', mouse_callback)  # Mouse callback\n",
    "\n",
    "        while True:\n",
    "            cv2.imshow(\"image\", dst)\n",
    "            key = cv2.waitKey(1) & 0xff\n",
    "            if key == ord('x'):\n",
    "                break\n",
    "    counter += 1\n",
    "\n",
    "cv2.destroyAllWindows()\n",
    "\n",
    "#\n",
    "#while True:\n",
    "## Read a new frame\n",
    "#    ok, frame = video.read()\n",
    "#    if not ok:\n",
    "#        break\n",
    "#        # Display result\n",
    "#        cv2.imshow(\"Tracking\", frame)\n",
    "# \n",
    "#        # Exit if ESC pressed\n",
    "#        k = cv2.waitKey(1) & 0xff\n",
    "#        if k == 27 : break\n",
    "#    "
   ]
  },
  {
   "cell_type": "code",
   "execution_count": 32,
   "metadata": {},
   "outputs": [
    {
     "name": "stdout",
     "output_type": "stream",
     "text": [
      "Help on built-in function set:\n",
      "\n",
      "set(...) method of cv2.VideoCapture instance\n",
      "    set(propId, value) -> retval\n",
      "\n"
     ]
    }
   ],
   "source": [
    "help(video.set)\n"
   ]
  },
  {
   "cell_type": "code",
   "execution_count": 30,
   "metadata": {},
   "outputs": [
    {
     "data": {
      "text/plain": [
       "7192"
      ]
     },
     "execution_count": 30,
     "metadata": {},
     "output_type": "execute_result"
    }
   ],
   "source": [
    "int(targetFrame)"
   ]
  },
  {
   "cell_type": "code",
   "execution_count": 28,
   "metadata": {},
   "outputs": [
    {
     "ename": "AttributeError",
     "evalue": "'cv2.VideoCapture' object has no attribute 'CV_CAP_PROP_POS_FRAMES'",
     "output_type": "error",
     "traceback": [
      "\u001b[1;31m---------------------------------------------------------------------------\u001b[0m",
      "\u001b[1;31mAttributeError\u001b[0m                            Traceback (most recent call last)",
      "\u001b[1;32m<ipython-input-28-42b5a9f9242f>\u001b[0m in \u001b[0;36m<module>\u001b[1;34m()\u001b[0m\n\u001b[1;32m----> 1\u001b[1;33m \u001b[0mvideo\u001b[0m\u001b[1;33m.\u001b[0m\u001b[0mset\u001b[0m\u001b[1;33m(\u001b[0m\u001b[0mvideo\u001b[0m\u001b[1;33m.\u001b[0m\u001b[0mCV_CAP_PROP_POS_FRAMES\u001b[0m\u001b[1;33m,\u001b[0m \u001b[1;36m0.5\u001b[0m\u001b[1;33m)\u001b[0m\u001b[1;33m\u001b[0m\u001b[0m\n\u001b[0m",
      "\u001b[1;31mAttributeError\u001b[0m: 'cv2.VideoCapture' object has no attribute 'CV_CAP_PROP_POS_FRAMES'"
     ]
    }
   ],
   "source": [
    "video.set(video.CV_CAP_PROP_POS_FRAMES, 0.5)"
   ]
  },
  {
   "cell_type": "code",
   "execution_count": 15,
   "metadata": {},
   "outputs": [
    {
     "data": {
      "text/plain": [
       "0.0"
      ]
     },
     "execution_count": 15,
     "metadata": {},
     "output_type": "execute_result"
    }
   ],
   "source": [
    "post_frame"
   ]
  },
  {
   "cell_type": "code",
   "execution_count": null,
   "metadata": {
    "collapsed": true
   },
   "outputs": [],
   "source": []
  }
 ],
 "metadata": {
  "kernelspec": {
   "display_name": "Python 3",
   "language": "python",
   "name": "python3"
  },
  "language_info": {
   "codemirror_mode": {
    "name": "ipython",
    "version": 3
   },
   "file_extension": ".py",
   "mimetype": "text/x-python",
   "name": "python",
   "nbconvert_exporter": "python",
   "pygments_lexer": "ipython3",
   "version": "3.6.1"
  }
 },
 "nbformat": 4,
 "nbformat_minor": 2
}
