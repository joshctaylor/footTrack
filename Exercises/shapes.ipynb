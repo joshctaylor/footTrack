{
 "cells": [
  {
   "cell_type": "code",
   "execution_count": 4,
   "metadata": {
    "collapsed": true
   },
   "outputs": [],
   "source": [
    "import cv2\n",
    "import numpy as np"
   ]
  },
  {
   "cell_type": "code",
   "execution_count": 21,
   "metadata": {
    "collapsed": true
   },
   "outputs": [],
   "source": [
    "def draw_circle(event,x,y,flags,param):\n",
    "    global dwnX,dwnY,upX,upY\n",
    "\n",
    "    if event == cv2.EVENT_LBUTTONDOWN:\n",
    "        dwnX,dwnY = x,y\n",
    "\n",
    "    elif event == cv2.EVENT_LBUTTONUP:\n",
    "        upX,upY = x,y\n",
    "        R = ((dwnX-upX)**2 + (dwnY-upY)**2)**0.5\n",
    "        cv2.circle(img,(dwnX,dwnY),int(R), (0,0,255), 3)\n",
    "\n",
    "def draw_rec(event,x,y,flags,param):\n",
    "    global dwnX,dwnY,upX,upY\n",
    "\n",
    "    if event == cv2.EVENT_LBUTTONDOWN:\n",
    "        dwnX,dwnY = x,y\n",
    "\n",
    "    elif event == cv2.EVENT_LBUTTONUP:\n",
    "        upX,upY = x,y\n",
    "        cv2.rectangle(img,(dwnX,dwnY),(upX,upY),(0,255,0),3)\n",
    "        \n",
    "img = np.zeros((512,512,3), np.uint8);\n",
    "cv2.namedWindow('image')\n",
    "cv2.setMouseCallback('image',draw_rec)\n",
    "       \n",
    "# start an endless loop and break on pressing x\n",
    "while(1):\n",
    "    cv2.imshow('image',img)\n",
    "    k = cv2.waitKey(1) & 0xFF\n",
    "    if k == ord('x'):\n",
    "        break\n",
    "        \n",
    "cv2.destroyAllWindows()"
   ]
  },
  {
   "cell_type": "code",
   "execution_count": 16,
   "metadata": {
    "scrolled": true
   },
   "outputs": [
    {
     "ename": "TypeError",
     "evalue": "dstack() takes 1 positional argument but 3 were given",
     "output_type": "error",
     "traceback": [
      "\u001b[1;31m---------------------------------------------------------------------------\u001b[0m",
      "\u001b[1;31mTypeError\u001b[0m                                 Traceback (most recent call last)",
      "\u001b[1;32m<ipython-input-16-d5874493a1c6>\u001b[0m in \u001b[0;36m<module>\u001b[1;34m()\u001b[0m\n\u001b[1;32m----> 1\u001b[1;33m \u001b[0mgreen\u001b[0m \u001b[1;33m=\u001b[0m \u001b[0mnp\u001b[0m\u001b[1;33m.\u001b[0m\u001b[0mdstack\u001b[0m\u001b[1;33m(\u001b[0m\u001b[0mnp\u001b[0m\u001b[1;33m.\u001b[0m\u001b[0mones\u001b[0m\u001b[1;33m(\u001b[0m\u001b[1;33m(\u001b[0m\u001b[1;36m512\u001b[0m\u001b[1;33m,\u001b[0m\u001b[1;36m512\u001b[0m\u001b[1;33m)\u001b[0m\u001b[1;33m)\u001b[0m\u001b[1;33m*\u001b[0m\u001b[1;36m55\u001b[0m\u001b[1;33m,\u001b[0m\u001b[0mnp\u001b[0m\u001b[1;33m.\u001b[0m\u001b[0mones\u001b[0m\u001b[1;33m(\u001b[0m\u001b[1;33m(\u001b[0m\u001b[1;36m512\u001b[0m\u001b[1;33m,\u001b[0m\u001b[1;36m512\u001b[0m\u001b[1;33m)\u001b[0m\u001b[1;33m)\u001b[0m\u001b[1;33m*\u001b[0m\u001b[1;36m204\u001b[0m\u001b[1;33m,\u001b[0m\u001b[0mnp\u001b[0m\u001b[1;33m.\u001b[0m\u001b[0mones\u001b[0m\u001b[1;33m(\u001b[0m\u001b[1;33m(\u001b[0m\u001b[1;36m512\u001b[0m\u001b[1;33m,\u001b[0m\u001b[1;36m512\u001b[0m\u001b[1;33m)\u001b[0m\u001b[1;33m)\u001b[0m\u001b[1;33m*\u001b[0m\u001b[1;36m86\u001b[0m\u001b[1;33m)\u001b[0m\u001b[1;33m\u001b[0m\u001b[0m\n\u001b[0m",
      "\u001b[1;31mTypeError\u001b[0m: dstack() takes 1 positional argument but 3 were given"
     ]
    }
   ],
   "source": [
    "green = np.dstack(np.ones((512,512))*55,np.ones((512,512))*204,np.ones((512,512))*86)\n"
   ]
  },
  {
   "cell_type": "code",
   "execution_count": 32,
   "metadata": {},
   "outputs": [],
   "source": [
    "# Create a blank 300x300 black image\n",
    "img1 = np.zeros((300, 300, 3), np.uint8)\n",
    "# Fill image with red color(set each pixel to red)\n",
    "img1[:] = (45, 75, 75)\n",
    "img1 = cv2.cvtColor(img1,cv2.COLOR_HSV2BGR)\n",
    "\n",
    "img2 = np.zeros((300, 300, 3), np.uint8)\n",
    "# Fill image with red color(set each pixel to red)\n",
    "img2[:] = (75, 255, 255)\n",
    "img2 = cv2.cvtColor(img2,cv2.COLOR_HSV2BGR)\n",
    "cv2.namedWindow('image1')\n",
    "cv2.namedWindow('image2')\n",
    "\n",
    "while(1):\n",
    "    cv2.imshow('image1',img1)\n",
    "    cv2.imshow('image2',img2)\n",
    "    k = cv2.waitKey(1) & 0xFF\n",
    "    if k == ord('x'):\n",
    "        break\n",
    "cv2.destroyAllWindows()\n"
   ]
  },
  {
   "cell_type": "code",
   "execution_count": 23,
   "metadata": {},
   "outputs": [
    {
     "name": "stdout",
     "output_type": "stream",
     "text": [
      "[[[ 60 255 255]]]\n"
     ]
    }
   ],
   "source": [
    "green = np.uint8([[[0,255,0 ]]])\n",
    "hsv_green = cv2.cvtColor(green,cv2.COLOR_BGR2HSV)\n",
    "print(hsv_green)\n",
    "\n"
   ]
  },
  {
   "cell_type": "code",
   "execution_count": null,
   "metadata": {
    "collapsed": true
   },
   "outputs": [],
   "source": []
  },
  {
   "cell_type": "code",
   "execution_count": null,
   "metadata": {
    "collapsed": true
   },
   "outputs": [],
   "source": [
    "img1 = "
   ]
  }
 ],
 "metadata": {
  "kernelspec": {
   "display_name": "Python 3",
   "language": "python",
   "name": "python3"
  },
  "language_info": {
   "codemirror_mode": {
    "name": "ipython",
    "version": 3
   },
   "file_extension": ".py",
   "mimetype": "text/x-python",
   "name": "python",
   "nbconvert_exporter": "python",
   "pygments_lexer": "ipython3",
   "version": "3.6.1"
  }
 },
 "nbformat": 4,
 "nbformat_minor": 2
}
