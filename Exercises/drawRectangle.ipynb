{
 "cells": [
  {
   "cell_type": "code",
   "execution_count": 1,
   "metadata": {},
   "outputs": [
    {
     "name": "stdout",
     "output_type": "stream",
     "text": [
      "first box is\n",
      "(662, 492, 742, 573)\n",
      "starting capture\n",
      "(662, 492, 742, 573)\n",
      "(666.0, 491.0, 742.0, 573.0)\n",
      "(663.0, 492.0, 742.0, 573.0)\n"
     ]
    }
   ],
   "source": [
    "import cv2\n",
    "import numpy as np\n",
    "\n",
    "# declare initial values\n",
    "ix,iy = -1,-1\n",
    "videoFile = 'A8S15_AFT.mp4'\n",
    "\n",
    "# mouse callback function\n",
    "def draw_rect(event,x,y,flags,param):\n",
    "    global dwnX,dwnY,upX,upY\n",
    "\n",
    "    if event == cv2.EVENT_LBUTTONDOWN:\n",
    "        dwnX,dwnY = x,y\n",
    "\n",
    "    elif event == cv2.EVENT_LBUTTONUP:\n",
    "        upX,upY = x,y\n",
    "        cv2.rectangle(img,(dwnX,dwnY),(upX,upY),(0,255,0),3)\n",
    "        \n",
    "def draw_circle(event,x,y,flags,param):\n",
    "    global dwnX,dwnY,upX,upY\n",
    "\n",
    "    if event == cv2.EVENT_LBUTTONDOWN:\n",
    "        dwnX,dwnY = x,y\n",
    "\n",
    "    elif event == cv2.EVENT_LBUTTONUP:\n",
    "        upX,upY = x,y\n",
    "        R = ((dwnX-upX)**2 + (dwnY-upY)**2)**0.5\n",
    "        cv2.circle(img,(dwnX,dwnY),int(R), (0,0,255), 3)\n",
    "\n",
    "video = cv2.VideoCapture(videoFile)\n",
    "ok, img = video.read()\n",
    "cv2.namedWindow('image')\n",
    "# decide if we are using a circle or a rectangle.\n",
    "\n",
    "cv2.setMouseCallback('image',draw_rect)\n",
    "cv2.rectangle(img,(669, 496), (745, 581),(0,255,0),3)\n",
    "frame = 1\n",
    "\n",
    "while(1):\n",
    "    cv2.imshow('image',img)\n",
    "    k = cv2.waitKey(1) & 0xFF\n",
    "    if k == ord('x'):\n",
    "        break\n",
    "\n",
    "cv2.destroyAllWindows()\n",
    "bbox = (dwnX,dwnY,upX,upY)\n",
    "print('first box is')\n",
    "print(bbox)\n",
    "print(\"starting capture\")\n",
    "if __name__ == '__main__' :\n",
    "    tracker = cv2.Tracker_create('MIL')\n",
    "    ok = tracker.init(img, bbox)\n",
    " \n",
    "    while True:\n",
    "        # Read a new frame\n",
    "        ok, img = video.read()\n",
    "        frame = frame +1\n",
    "        if frame == 5:\n",
    "            break\n",
    "        \n",
    "        if not ok:\n",
    "            break\n",
    "            \n",
    "        print(bbox)\n",
    "        \n",
    "        # Update tracker\n",
    "        ok, bbox = tracker.update(img)\n",
    " \n",
    "        # Draw bounding box\n",
    "        if ok:\n",
    "            p1 = (int(bbox[0]), int(bbox[1]))\n",
    "            p2 = (int(bbox[0] + bbox[2]), int(bbox[1] + bbox[3]))\n",
    "            cv2.rectangle(img, p1, p2, (0,0,255))\n",
    " \n",
    "        # Display result\n",
    "        cv2.imshow(\"Tracking\", img)\n",
    " \n",
    "        # Exit if ESC pressed\n",
    "        k = cv2.waitKey(1) & 0xff\n",
    "        if k == 27 : break\n",
    "            \n",
    "cv2.destroyAllWindows()"
   ]
  },
  {
   "cell_type": "code",
   "execution_count": null,
   "metadata": {
    "collapsed": true
   },
   "outputs": [],
   "source": []
  },
  {
   "cell_type": "code",
   "execution_count": null,
   "metadata": {
    "collapsed": true
   },
   "outputs": [],
   "source": [
    "import time\n",
    "print(\"waiting for 5\")\n",
    "time.sleep(0)\n",
    "print(\"time up\")\n",
    "\n"
   ]
  },
  {
   "cell_type": "code",
   "execution_count": 6,
   "metadata": {},
   "outputs": [
    {
     "ename": "TypeError",
     "evalue": "not all arguments converted during string formatting",
     "output_type": "error",
     "traceback": [
      "\u001b[1;31m---------------------------------------------------------------------------\u001b[0m",
      "\u001b[1;31mTypeError\u001b[0m                                 Traceback (most recent call last)",
      "\u001b[1;32m<ipython-input-6-b41049e57fb2>\u001b[0m in \u001b[0;36m<module>\u001b[1;34m()\u001b[0m\n\u001b[1;32m----> 1\u001b[1;33m \u001b[0mprint\u001b[0m\u001b[1;33m(\u001b[0m\u001b[1;34m'bounding box is %d'\u001b[0m \u001b[1;33m%\u001b[0m \u001b[0mbbox\u001b[0m\u001b[1;33m)\u001b[0m\u001b[1;33m\u001b[0m\u001b[0m\n\u001b[0m",
      "\u001b[1;31mTypeError\u001b[0m: not all arguments converted during string formatting"
     ]
    }
   ],
   "source": [
    "print('bounding box is %d' % bbox)\n"
   ]
  },
  {
   "cell_type": "code",
   "execution_count": null,
   "metadata": {
    "collapsed": true
   },
   "outputs": [],
   "source": []
  }
 ],
 "metadata": {
  "kernelspec": {
   "display_name": "Python 3",
   "language": "python",
   "name": "python3"
  },
  "language_info": {
   "codemirror_mode": {
    "name": "ipython",
    "version": 3
   },
   "file_extension": ".py",
   "mimetype": "text/x-python",
   "name": "python",
   "nbconvert_exporter": "python",
   "pygments_lexer": "ipython3",
   "version": "3.6.1"
  }
 },
 "nbformat": 4,
 "nbformat_minor": 2
}
